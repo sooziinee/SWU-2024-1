{
 "cells": [
  {
   "cell_type": "code",
   "execution_count": 3,
   "metadata": {},
   "outputs": [],
   "source": [
    "from Bio import Entrez\n",
    "\n",
    "Entrez.email= \"hsjin777@naver.com\"\n",
    "\n",
    "handle = Entrez.efetch(\n",
    "    db=\"nucleotide\", \n",
    "    rettype=\"gb\", \n",
    "    id=\"NC_045512\", \n",
    "    retmod=\"text\",\n",
    "    )\n",
    "\n",
    "result_filepath = \"result.gb \"\n",
    "\n",
    "with open(result_filepath, \"w\") as fw:\n",
    "    for line in handle:\n",
    "        fw.write(line)"
   ]
  },
  {
   "cell_type": "code",
   "execution_count": 4,
   "metadata": {},
   "outputs": [
    {
     "name": "stdout",
     "output_type": "stream",
     "text": [
      "NC_045512.2\n",
      "Severe acute respiratory syndrome coronavirus 2 isolate Wuhan-Hu-1, complete genome\n"
     ]
    }
   ],
   "source": [
    "from Bio import SeqIO\n",
    "\n",
    "record=SeqIO.read(\"result.gb\", \"genbank\")\n",
    "print(record.id )\n",
    "print(record.description)"
   ]
  },
  {
   "cell_type": "code",
   "execution_count": 10,
   "metadata": {},
   "outputs": [],
   "source": [
    "from Bio import Entrez\n",
    "\n",
    "def make_ncbi_id_list(file):\n",
    "    ncbi_id_list = list()\n",
    "    with open(file) as handle:\n",
    "        for line in handle:\n",
    "          ncbi_id_list.append(line.strip())\n",
    "        return ncbi_id_list\n",
    "\n",
    "def genbank_downloader(ncbi_id):\n",
    "   Entrez.email = \"hsjin777@naver.com\"\n",
    "   handle=Entrez.efetch(db=\"nucleotide\", rettype=\"gb\", id=ncbi_id, retmode=\"text\")\n",
    "   write_filepath =f\"{ncbi_id}.gb\"\n",
    "   with open(write_filepath, \"w\") as fw:\n",
    "      for line in handle:\n",
    "         fw.write(line)\n",
    "\n",
    "print(f\"#DONE: {write_filepath}\")\n",
    "def main(filepath):\n",
    "   ncbi_id_list = make_ncbi_id_list(filepath)\n",
    "   for ncbi_id in ncbi_id_list:\n",
    "      genbank_downloader(ncbi_id)\n",
    "\n",
    "\n",
    "main()\n",
    "\n",
    "   \n",
    "\n",
    "\n",
    "   "
   ]
  },
  {
   "cell_type": "code",
   "execution_count": 16,
   "metadata": {},
   "outputs": [
    {
     "ename": "FileNotFoundError",
     "evalue": "[Errno 2] No such file or directory: 'NC_002549.gb'",
     "output_type": "error",
     "traceback": [
      "\u001b[1;31m---------------------------------------------------------------------------\u001b[0m",
      "\u001b[1;31mFileNotFoundError\u001b[0m                         Traceback (most recent call last)",
      "Cell \u001b[1;32mIn[16], line 24\u001b[0m\n\u001b[0;32m     21\u001b[0m     \u001b[38;5;28;01mfor\u001b[39;00m ncbi_id \u001b[38;5;129;01min\u001b[39;00m ncbi_id_list:\n\u001b[0;32m     22\u001b[0m         read_genbank_file(ncbi_id\u001b[38;5;241m+\u001b[39m\u001b[38;5;124m\"\u001b[39m\u001b[38;5;124m.gb\u001b[39m\u001b[38;5;124m\"\u001b[39m)\n\u001b[1;32m---> 24\u001b[0m main(\u001b[38;5;124m\"\u001b[39m\u001b[38;5;124mncbi_id_list.txt\u001b[39m\u001b[38;5;124m\"\u001b[39m)\n",
      "Cell \u001b[1;32mIn[16], line 22\u001b[0m, in \u001b[0;36mmain\u001b[1;34m(file)\u001b[0m\n\u001b[0;32m     20\u001b[0m ncbi_id_list \u001b[38;5;241m=\u001b[39m make_ncbi_id_list(file)\n\u001b[0;32m     21\u001b[0m \u001b[38;5;28;01mfor\u001b[39;00m ncbi_id \u001b[38;5;129;01min\u001b[39;00m ncbi_id_list:\n\u001b[1;32m---> 22\u001b[0m     read_genbank_file(ncbi_id\u001b[38;5;241m+\u001b[39m\u001b[38;5;124m\"\u001b[39m\u001b[38;5;124m.gb\u001b[39m\u001b[38;5;124m\"\u001b[39m)\n",
      "Cell \u001b[1;32mIn[16], line 11\u001b[0m, in \u001b[0;36mread_genbank_file\u001b[1;34m(genbank_filepath)\u001b[0m\n\u001b[0;32m     10\u001b[0m \u001b[38;5;28;01mdef\u001b[39;00m \u001b[38;5;21mread_genbank_file\u001b[39m(genbank_filepath):\n\u001b[1;32m---> 11\u001b[0m     record\u001b[38;5;241m=\u001b[39mSeqIO\u001b[38;5;241m.\u001b[39mread(genbank_filepath, \u001b[38;5;124m\"\u001b[39m\u001b[38;5;124mgenbank\u001b[39m\u001b[38;5;124m\"\u001b[39m)\n\u001b[0;32m     12\u001b[0m     \u001b[38;5;28mprint\u001b[39m(record\u001b[38;5;241m.\u001b[39mid)\n\u001b[0;32m     13\u001b[0m     \u001b[38;5;28mprint\u001b[39m(\u001b[38;5;28mlen\u001b[39m(record\u001b[38;5;241m.\u001b[39mid))\n",
      "File \u001b[1;32md:\\anaconda3\\Lib\\site-packages\\Bio\\SeqIO\\__init__.py:660\u001b[0m, in \u001b[0;36mread\u001b[1;34m(handle, format, alphabet)\u001b[0m\n\u001b[0;32m    620\u001b[0m \u001b[38;5;28;01mdef\u001b[39;00m \u001b[38;5;21mread\u001b[39m(handle, \u001b[38;5;28mformat\u001b[39m, alphabet\u001b[38;5;241m=\u001b[39m\u001b[38;5;28;01mNone\u001b[39;00m):\n\u001b[0;32m    621\u001b[0m \u001b[38;5;250m    \u001b[39m\u001b[38;5;124;03m\"\"\"Turn a sequence file into a single SeqRecord.\u001b[39;00m\n\u001b[0;32m    622\u001b[0m \n\u001b[0;32m    623\u001b[0m \u001b[38;5;124;03m    Arguments:\u001b[39;00m\n\u001b[1;32m   (...)\u001b[0m\n\u001b[0;32m    658\u001b[0m \u001b[38;5;124;03m    to read multiple records from the handle.\u001b[39;00m\n\u001b[0;32m    659\u001b[0m \u001b[38;5;124;03m    \"\"\"\u001b[39;00m\n\u001b[1;32m--> 660\u001b[0m     iterator \u001b[38;5;241m=\u001b[39m parse(handle, \u001b[38;5;28mformat\u001b[39m, alphabet)\n\u001b[0;32m    661\u001b[0m     \u001b[38;5;28;01mtry\u001b[39;00m:\n\u001b[0;32m    662\u001b[0m         record \u001b[38;5;241m=\u001b[39m \u001b[38;5;28mnext\u001b[39m(iterator)\n",
      "File \u001b[1;32md:\\anaconda3\\Lib\\site-packages\\Bio\\SeqIO\\__init__.py:613\u001b[0m, in \u001b[0;36mparse\u001b[1;34m(handle, format, alphabet)\u001b[0m\n\u001b[0;32m    611\u001b[0m iterator_generator \u001b[38;5;241m=\u001b[39m _FormatToIterator\u001b[38;5;241m.\u001b[39mget(\u001b[38;5;28mformat\u001b[39m)\n\u001b[0;32m    612\u001b[0m \u001b[38;5;28;01mif\u001b[39;00m iterator_generator:\n\u001b[1;32m--> 613\u001b[0m     \u001b[38;5;28;01mreturn\u001b[39;00m iterator_generator(handle)\n\u001b[0;32m    614\u001b[0m \u001b[38;5;28;01mif\u001b[39;00m \u001b[38;5;28mformat\u001b[39m \u001b[38;5;129;01min\u001b[39;00m AlignIO\u001b[38;5;241m.\u001b[39m_FormatToIterator:\n\u001b[0;32m    615\u001b[0m     \u001b[38;5;66;03m# Use Bio.AlignIO to read in the alignments\u001b[39;00m\n\u001b[0;32m    616\u001b[0m     \u001b[38;5;28;01mreturn\u001b[39;00m (r \u001b[38;5;28;01mfor\u001b[39;00m alignment \u001b[38;5;129;01min\u001b[39;00m AlignIO\u001b[38;5;241m.\u001b[39mparse(handle, \u001b[38;5;28mformat\u001b[39m) \u001b[38;5;28;01mfor\u001b[39;00m r \u001b[38;5;129;01min\u001b[39;00m alignment)\n",
      "File \u001b[1;32md:\\anaconda3\\Lib\\site-packages\\Bio\\SeqIO\\InsdcIO.py:97\u001b[0m, in \u001b[0;36mGenBankIterator.__init__\u001b[1;34m(self, source)\u001b[0m\n\u001b[0;32m     60\u001b[0m \u001b[38;5;28;01mdef\u001b[39;00m \u001b[38;5;21m__init__\u001b[39m(\u001b[38;5;28mself\u001b[39m, source):\n\u001b[0;32m     61\u001b[0m \u001b[38;5;250m    \u001b[39m\u001b[38;5;124;03m\"\"\"Break up a Genbank file into SeqRecord objects.\u001b[39;00m\n\u001b[0;32m     62\u001b[0m \n\u001b[0;32m     63\u001b[0m \u001b[38;5;124;03m    Argument source is a file-like object opened in text mode or a path to a file.\u001b[39;00m\n\u001b[1;32m   (...)\u001b[0m\n\u001b[0;32m     95\u001b[0m \n\u001b[0;32m     96\u001b[0m \u001b[38;5;124;03m    \"\"\"\u001b[39;00m\n\u001b[1;32m---> 97\u001b[0m     \u001b[38;5;28msuper\u001b[39m()\u001b[38;5;241m.\u001b[39m\u001b[38;5;21m__init__\u001b[39m(source, mode\u001b[38;5;241m=\u001b[39m\u001b[38;5;124m\"\u001b[39m\u001b[38;5;124mt\u001b[39m\u001b[38;5;124m\"\u001b[39m, fmt\u001b[38;5;241m=\u001b[39m\u001b[38;5;124m\"\u001b[39m\u001b[38;5;124mGenBank\u001b[39m\u001b[38;5;124m\"\u001b[39m)\n",
      "File \u001b[1;32md:\\anaconda3\\Lib\\site-packages\\Bio\\SeqIO\\Interfaces.py:58\u001b[0m, in \u001b[0;36mSequenceIterator.__init__\u001b[1;34m(self, source, alphabet, mode, fmt)\u001b[0m\n\u001b[0;32m     56\u001b[0m     \u001b[38;5;28;01mraise\u001b[39;00m \u001b[38;5;167;01mValueError\u001b[39;00m(\u001b[38;5;124m\"\u001b[39m\u001b[38;5;124mThe alphabet argument is no longer supported\u001b[39m\u001b[38;5;124m\"\u001b[39m)\n\u001b[0;32m     57\u001b[0m \u001b[38;5;28;01mif\u001b[39;00m \u001b[38;5;28misinstance\u001b[39m(source, _PathLikeTypes):\n\u001b[1;32m---> 58\u001b[0m     \u001b[38;5;28mself\u001b[39m\u001b[38;5;241m.\u001b[39mstream \u001b[38;5;241m=\u001b[39m \u001b[38;5;28mopen\u001b[39m(source, \u001b[38;5;124m\"\u001b[39m\u001b[38;5;124mr\u001b[39m\u001b[38;5;124m\"\u001b[39m \u001b[38;5;241m+\u001b[39m mode)\n\u001b[0;32m     59\u001b[0m     \u001b[38;5;28mself\u001b[39m\u001b[38;5;241m.\u001b[39mshould_close_stream \u001b[38;5;241m=\u001b[39m \u001b[38;5;28;01mTrue\u001b[39;00m\n\u001b[0;32m     60\u001b[0m \u001b[38;5;28;01melse\u001b[39;00m:\n",
      "\u001b[1;31mFileNotFoundError\u001b[0m: [Errno 2] No such file or directory: 'NC_002549.gb'"
     ]
    }
   ],
   "source": [
    "from Bio import SeqIO\n",
    "\n",
    "def make_ncbi_id_list(file):\n",
    "    ncbi_id_list = list()\n",
    "    with open(file) as handle:\n",
    "        for line in handle:\n",
    "          ncbi_id_list.append(line.strip())\n",
    "        return ncbi_id_list\n",
    "\n",
    "def read_genbank_file(genbank_filepath):\n",
    "    record=SeqIO.read(genbank_filepath, \"genbank\")\n",
    "    print(record.id)\n",
    "    print(len(record.id))\n",
    "    print(record.description)\n",
    "    print(record.annotation[\"molecule_type\"])\n",
    "    print(record.annotation[\"organism\"])\n",
    "    print(\"\")\n",
    "\n",
    "def main(file):\n",
    "    ncbi_id_list = make_ncbi_id_list(file)\n",
    "    for ncbi_id in ncbi_id_list:\n",
    "        read_genbank_file(ncbi_id+\".gb\")\n",
    "\n",
    "main(\"ncbi_id_list.txt\")\n"
   ]
  },
  {
   "cell_type": "code",
   "execution_count": null,
   "metadata": {},
   "outputs": [],
   "source": []
  }
 ],
 "metadata": {
  "kernelspec": {
   "display_name": "Python 3",
   "language": "python",
   "name": "python3"
  },
  "language_info": {
   "codemirror_mode": {
    "name": "ipython",
    "version": 3
   },
   "file_extension": ".py",
   "mimetype": "text/x-python",
   "name": "python",
   "nbconvert_exporter": "python",
   "pygments_lexer": "ipython3",
   "version": "3.11.7"
  }
 },
 "nbformat": 4,
 "nbformat_minor": 2
}

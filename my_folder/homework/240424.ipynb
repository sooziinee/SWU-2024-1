{
 "cells": [
  {
   "cell_type": "code",
   "execution_count": 5,
   "metadata": {},
   "outputs": [
    {
     "name": "stdout",
     "output_type": "stream",
     "text": [
      "A: 8954\n",
      "C: 5493\n",
      "G: 5863\n",
      "T: 9594\n"
     ]
    }
   ],
   "source": [
    "seq = \"\"\n",
    "with open(\"NC_045512.fasta\") as handle :\n",
    "    for line in handle:\n",
    "     \n",
    "        seq += line.strip()\n",
    "\n",
    "print(f\"A: {seq.count('A')}\")\n",
    "print(f\"C: {seq.count('C')}\")\n",
    "print(f\"G: {seq.count('G')}\")\n",
    "print(f\"T: {seq.count('T')}\")\n"
   ]
  },
  {
   "cell_type": "code",
   "execution_count": null,
   "metadata": {},
   "outputs": [],
   "source": []
  }
 ],
 "metadata": {
  "kernelspec": {
   "display_name": "Python 3",
   "language": "python",
   "name": "python3"
  },
  "language_info": {
   "codemirror_mode": {
    "name": "ipython",
    "version": 3
   },
   "file_extension": ".py",
   "mimetype": "text/x-python",
   "name": "python",
   "nbconvert_exporter": "python",
   "pygments_lexer": "ipython3",
   "version": "3.11.7"
  }
 },
 "nbformat": 4,
 "nbformat_minor": 2
}
